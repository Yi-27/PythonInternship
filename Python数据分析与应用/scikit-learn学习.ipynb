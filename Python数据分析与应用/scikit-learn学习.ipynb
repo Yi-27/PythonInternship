{
 "cells": [
  {
   "cell_type": "markdown",
   "metadata": {},
   "source": [
    "# 使用sklearn转换器处理数据"
   ]
  },
  {
   "cell_type": "markdown",
   "metadata": {},
   "source": [
    "## 加载datasets模块中数据集"
   ]
  },
  {
   "cell_type": "code",
   "execution_count": 1,
   "metadata": {},
   "outputs": [
    {
     "data": {
      "text/plain": [
       "dict_keys(['data', 'target', 'feature_names', 'DESCR', 'filename'])"
      ]
     },
     "execution_count": 1,
     "metadata": {},
     "output_type": "execute_result"
    }
   ],
   "source": [
    "from sklearn.datasets import load_boston\n",
    "data = load_boston()\n",
    "data.keys()"
   ]
  },
  {
   "cell_type": "code",
   "execution_count": 2,
   "metadata": {},
   "outputs": [
    {
     "data": {
      "text/plain": [
       "array([[6.3200e-03, 1.8000e+01, 2.3100e+00, ..., 1.5300e+01, 3.9690e+02,\n",
       "        4.9800e+00],\n",
       "       [2.7310e-02, 0.0000e+00, 7.0700e+00, ..., 1.7800e+01, 3.9690e+02,\n",
       "        9.1400e+00],\n",
       "       [2.7290e-02, 0.0000e+00, 7.0700e+00, ..., 1.7800e+01, 3.9283e+02,\n",
       "        4.0300e+00],\n",
       "       ...,\n",
       "       [6.0760e-02, 0.0000e+00, 1.1930e+01, ..., 2.1000e+01, 3.9690e+02,\n",
       "        5.6400e+00],\n",
       "       [1.0959e-01, 0.0000e+00, 1.1930e+01, ..., 2.1000e+01, 3.9345e+02,\n",
       "        6.4800e+00],\n",
       "       [4.7410e-02, 0.0000e+00, 1.1930e+01, ..., 2.1000e+01, 3.9690e+02,\n",
       "        7.8800e+00]])"
      ]
     },
     "execution_count": 2,
     "metadata": {},
     "output_type": "execute_result"
    }
   ],
   "source": [
    "data['data']"
   ]
  },
  {
   "cell_type": "code",
   "execution_count": 4,
   "metadata": {},
   "outputs": [
    {
     "name": "stdout",
     "output_type": "stream",
     "text": [
      "(404, 13)\n",
      "(102, 13)\n",
      "(404,)\n",
      "(102,)\n"
     ]
    }
   ],
   "source": [
    "from sklearn.model_selection import train_test_split\n",
    "\n",
    "# 切分数据集\n",
    "train_data, test_data, train_target, test_target = train_test_split(data['data'], data['target'], test_size=0.2)\n",
    "print(train_data.shape)\n",
    "print(test_data.shape)\n",
    "print(train_target.shape)\n",
    "print(test_target.shape)"
   ]
  },
  {
   "cell_type": "code",
   "execution_count": 9,
   "metadata": {},
   "outputs": [
    {
     "name": "stdout",
     "output_type": "stream",
     "text": [
      "[-8.59539075e-05  0.00000000e+00 -1.68621701e-02  0.00000000e+00\n",
      " -8.07053942e-01 -6.82314620e-01 -2.98661174e-02 -1.02719857e-01\n",
      " -4.34782609e-02 -3.56870229e-01 -1.34042553e+00 -6.38977636e-03\n",
      " -4.77373068e-02]\n"
     ]
    },
    {
     "data": {
      "text/plain": [
       "array([[4.73426506e-04, 2.50000000e-01, 1.61290323e-01, ...,\n",
       "        6.80851064e-01, 1.00000000e+00, 9.82339956e-02],\n",
       "       [1.31351715e-03, 3.00000000e-01, 1.63856305e-01, ...,\n",
       "        4.25531915e-01, 9.38764643e-01, 2.61865342e-01],\n",
       "       [5.38163943e-03, 0.00000000e+00, 3.46041056e-01, ...,\n",
       "        6.17021277e-01, 9.95714793e-01, 2.38134658e-01],\n",
       "       ...,\n",
       "       [3.52714035e-01, 0.00000000e+00, 6.46627566e-01, ...,\n",
       "        8.08510638e-01, 3.16547492e-01, 6.87362031e-01],\n",
       "       [3.27631271e-04, 0.00000000e+00, 1.73387097e-01, ...,\n",
       "        8.08510638e-01, 9.94700543e-01, 2.43653422e-01],\n",
       "       [4.26505465e-04, 8.00000000e-01, 3.88563050e-02, ...,\n",
       "        0.00000000e+00, 9.88082560e-01, 1.34933775e-01]])"
      ]
     },
     "execution_count": 9,
     "metadata": {},
     "output_type": "execute_result"
    }
   ],
   "source": [
    "from sklearn.preprocessing import MinMaxScaler\n",
    "\n",
    "# 离差标准化\n",
    "model = MinMaxScaler().fit(train_data) # 提取每一列最大最小值，这样并没有改变原始数据\n",
    "print(model.min_)\n",
    "train_data_mms = model.transform(train_data) # 这样才会对原始数据做转换，用最大最小值对数据集中的数据按列作离差标准化\n",
    "train_data_mms"
   ]
  },
  {
   "cell_type": "code",
   "execution_count": 10,
   "metadata": {},
   "outputs": [
    {
     "data": {
      "text/plain": [
       "array([[0.00293168, 0.2       , 0.23826979, ..., 0.63829787, 0.98445662,\n",
       "        0.13383002],\n",
       "       [0.00208139, 0.        , 0.23643695, ..., 0.56382979, 0.99381307,\n",
       "        0.15756071],\n",
       "       [0.09241201, 0.        , 0.64662757, ..., 0.80851064, 1.        ,\n",
       "        0.35789183],\n",
       "       ...,\n",
       "       [0.00839465, 0.        , 0.21041056, ..., 0.5106383 , 0.98349308,\n",
       "        0.22626932],\n",
       "       [1.21001722, 0.        , 0.64662757, ..., 0.80851064, 1.        ,\n",
       "        0.42715232],\n",
       "       [0.16245261, 0.        , 0.64662757, ..., 0.80851064, 0.83566611,\n",
       "        0.28697572]])"
      ]
     },
     "execution_count": 10,
     "metadata": {},
     "output_type": "execute_result"
    }
   ],
   "source": [
    "test_data_mms = model.transform(test_data) # 用训练集的模型来离差标准化测试集\n",
    "test_data_mms"
   ]
  },
  {
   "cell_type": "code",
   "execution_count": 14,
   "metadata": {},
   "outputs": [
    {
     "name": "stdout",
     "output_type": "stream",
     "text": [
      "[[-0.64034719 -0.20691805 -0.06190295 ... -0.07439465  0.04354652\n",
      "   0.05285658]\n",
      " [-0.55065493 -0.17762539  0.01179082 ...  0.07619762 -0.11049697\n",
      "  -0.08232115]\n",
      " [-0.25914434  0.1968075  -0.15455129 ... -0.07432942  0.04113934\n",
      "  -0.00190226]\n",
      " ...\n",
      " [ 1.1016228  -0.24151139 -0.02956136 ...  0.10954931 -0.0394289\n",
      "  -0.14349521]\n",
      " [-0.40614865  0.06702627 -0.23693282 ... -0.06886667 -0.0724417\n",
      "  -0.08771276]\n",
      " [-0.95350265 -0.36214436  0.31718981 ...  0.21211766 -0.14134763\n",
      "   0.04093233]]\n"
     ]
    },
    {
     "data": {
      "text/plain": [
       "(404, 8)"
      ]
     },
     "execution_count": 14,
     "metadata": {},
     "output_type": "execute_result"
    }
   ],
   "source": [
    "from sklearn.decomposition import PCA\n",
    "\n",
    "# 降维操作\n",
    "model = PCA(n_components=8).fit(train_data_mms) # 降到8维，原来是 (404, 13)\n",
    "train_data_mms = model.transform(train_data_mms)\n",
    "print(train_data_mms)\n",
    "train_data_mms.shape"
   ]
  },
  {
   "cell_type": "markdown",
   "metadata": {},
   "source": [
    "# 构建并评价聚类模型"
   ]
  },
  {
   "cell_type": "code",
   "execution_count": 18,
   "metadata": {},
   "outputs": [
    {
     "data": {
      "text/plain": [
       "array([1, 1, 1, 1, 1, 1, 1, 1, 1, 1, 1, 1, 1, 1, 1, 1, 1, 1, 1, 1, 1, 1,\n",
       "       1, 1, 1, 1, 1, 1, 1, 1, 1, 1, 1, 1, 1, 1, 1, 1, 1, 1, 1, 1, 1, 1,\n",
       "       1, 1, 1, 1, 1, 1, 0, 0, 2, 0, 0, 0, 0, 0, 0, 0, 0, 0, 0, 0, 0, 0,\n",
       "       0, 0, 0, 0, 0, 0, 0, 0, 0, 0, 0, 2, 0, 0, 0, 0, 0, 0, 0, 0, 0, 0,\n",
       "       0, 0, 0, 0, 0, 0, 0, 0, 0, 0, 0, 0, 2, 0, 2, 2, 2, 2, 0, 2, 2, 2,\n",
       "       2, 2, 2, 0, 0, 2, 2, 2, 2, 0, 2, 0, 2, 0, 2, 2, 0, 0, 2, 2, 2, 2,\n",
       "       2, 0, 2, 2, 2, 2, 0, 2, 2, 2, 0, 2, 2, 2, 0, 2, 2, 0])"
      ]
     },
     "execution_count": 18,
     "metadata": {},
     "output_type": "execute_result"
    }
   ],
   "source": [
    "from sklearn.datasets import load_iris\n",
    "from sklearn.cluster import KMeans\n",
    "\n",
    "data = load_iris()\n",
    "model = KMeans(n_clusters=3).fit(data['data']) # 聚成3类\n",
    "model.labels_"
   ]
  },
  {
   "cell_type": "code",
   "execution_count": 19,
   "metadata": {},
   "outputs": [
    {
     "data": {
      "text/plain": [
       "array([[5.9016129 , 2.7483871 , 4.39354839, 1.43387097],\n",
       "       [5.006     , 3.428     , 1.462     , 0.246     ],\n",
       "       [6.85      , 3.07368421, 5.74210526, 2.07105263]])"
      ]
     },
     "execution_count": 19,
     "metadata": {},
     "output_type": "execute_result"
    }
   ],
   "source": [
    "model.cluster_centers_ # 聚类中心"
   ]
  },
  {
   "cell_type": "code",
   "execution_count": 35,
   "metadata": {},
   "outputs": [
    {
     "data": {
      "image/png": "[encoded data removed]",
      "text/plain": [
       "<Figure size 432x288 with 1 Axes>"
      ]
     },
     "metadata": {
      "needs_background": "light"
     },
     "output_type": "display_data"
    }
   ],
   "source": [
    "import matplotlib.pyplot as plt\n",
    "# 将聚类后的结果可视化成散点图\n",
    "for i in range(3):\n",
    "    # 注：iris数据集 每个样本共四个属性，分别是：花萼长度，花萼宽度，花瓣长度，花瓣宽度\n",
    "    # 这里提取出每一类的第0列和第1列作为x和y，即提取的是花萼长度，花萼宽度，也可以提取2和3列，效果大致相同\n",
    "    plt.scatter(data['data'][model.labels_ == i, 0], data['data'][model.labels_ == i, 1]) # x轴和y轴\n",
    "plt.show()"
   ]
  },
  {
   "cell_type": "code",
   "execution_count": 38,
   "metadata": {},
   "outputs": [
    {
     "name": "stdout",
     "output_type": "stream",
     "text": [
      "2 0.681046169211746\n",
      "3 0.5528190123564091\n",
      "4 0.4980505049972867\n",
      "5 0.4887488870931048\n",
      "6 0.3664804028900824\n",
      "7 0.35637774155737634\n",
      "8 0.35974549238457515\n"
     ]
    }
   ],
   "source": [
    "from sklearn.metrics import silhouette_score\n",
    "silhouette_score(data['data'], model.labels_) # 通过数据集的聚类前的数据和聚类后的标签来评价模型是否\n",
    "# 当发现效果不好的时候，这时候就需要将前面聚类的类别是加以调整，直至效果达到最佳，最好结果是1，最差是-1\n",
    "\n",
    "# 通过循环来找出最佳聚类数\n",
    "for k in range(2, 9):\n",
    "    model = KMeans(n_clusters=k).fit(data['data'])\n",
    "    print(k, silhouette_score(data['data'], model.labels_)) # 这里是k为2是最佳，其实iris样本集是3个种类，所以评估模型也不一定是最佳的"
   ]
  },
  {
   "cell_type": "markdown",
   "metadata": {},
   "source": [
    "# 构建并评价分类模型"
   ]
  },
  {
   "cell_type": "code",
   "execution_count": 39,
   "metadata": {},
   "outputs": [],
   "source": [
    "from sklearn.datasets import load_breast_cancer\n",
    "\n",
    "# 导入乳腺癌数据集\n",
    "data = load_breast_cancer()\n",
    "x = data['data']\n",
    "y = data['target']"
   ]
  },
  {
   "cell_type": "code",
   "execution_count": 40,
   "metadata": {},
   "outputs": [],
   "source": [
    "from sklearn.model_selection import train_test_split\n",
    "\n",
    "# 切分数据集\n",
    "x_train, x_test, y_train, y_test = train_test_split(x, y, test_size=0.2)"
   ]
  },
  {
   "cell_type": "code",
   "execution_count": 41,
   "metadata": {},
   "outputs": [
    {
     "data": {
      "text/plain": [
       "(455, 30)"
      ]
     },
     "execution_count": 41,
     "metadata": {},
     "output_type": "execute_result"
    }
   ],
   "source": [
    "x_train.shape # 维数太高可以做一下降维操作"
   ]
  },
  {
   "cell_type": "code",
   "execution_count": 43,
   "metadata": {},
   "outputs": [
    {
     "name": "stdout",
     "output_type": "stream",
     "text": [
      "4254.0\n",
      "0.0\n"
     ]
    },
    {
     "data": {
      "text/plain": [
       "array([  28,   39,  188, 2501,    0,    0,    0,    0,    0,    0,    2,\n",
       "          4,   21,  542,    0,    0,    0,    0,    0,    0,   36,   49,\n",
       "        251, 4254,    0,    1,    1,    0,    0,    0])"
      ]
     },
     "execution_count": 43,
     "metadata": {},
     "output_type": "execute_result"
    }
   ],
   "source": [
    "import numpy as np\n",
    "print(x_train.max())\n",
    "print(x_train.min()) # 取值范围比较大的情况可以做归一化或标准化的操作\n",
    "\n",
    "# 查看每一列的最大值最小值\n",
    "np.int32(x_train.max(axis=0)) # 并通过numpy的int32()将原来的科学计数法转成整型"
   ]
  },
  {
   "cell_type": "code",
   "execution_count": 44,
   "metadata": {},
   "outputs": [
    {
     "data": {
      "text/plain": [
       "array([ 3.9195442 ,  4.66925414,  3.92367767,  5.19061858,  4.57312931,\n",
       "        4.49516862,  4.11608859,  3.85671819,  4.37762932,  4.85336451,\n",
       "        8.63935657,  6.75067495,  9.23152582, 10.56587579,  8.03520095,\n",
       "        5.81860524, 11.29984296,  6.59401824,  6.82701437,  9.26401686,\n",
       "        4.04337476,  3.867633  ,  4.23785569,  5.90298322,  3.88727395,\n",
       "        4.92373402,  4.58312047,  2.61614437,  5.76067782,  6.59728316])"
      ]
     },
     "execution_count": 44,
     "metadata": {},
     "output_type": "execute_result"
    }
   ],
   "source": [
    "# 模型预处理\n",
    "from sklearn.preprocessing import StandardScaler\n",
    "model = StandardScaler().fit(x_train) # 得到处理标准化的模型\n",
    "x_train_ss = model.transform(x_train) # 得到标准化处理后的训练数据\n",
    "x_test_ss = model.transform(x_test) # 得到标准化处理后的测试数据\n",
    "x_train_ss.max(axis=0) # 看标准化处理后的每一列的最大值,这样看差值就会比上面的下"
   ]
  },
  {
   "cell_type": "code",
   "execution_count": 48,
   "metadata": {},
   "outputs": [],
   "source": [
    "# 分类构建模型\n",
    "from sklearn.svm import SVC\n",
    "model = SVC().fit(x_train_ss, y_train) # 训练模型\n",
    "y_pre = model.predict(x_test_ss) # 用测试集来预测"
   ]
  },
  {
   "cell_type": "code",
   "execution_count": 49,
   "metadata": {},
   "outputs": [
    {
     "data": {
      "text/plain": [
       "0.9824561403508771"
      ]
     },
     "execution_count": 49,
     "metadata": {},
     "output_type": "execute_result"
    }
   ],
   "source": [
    "model.score(x_test_ss, y_test) # 可以直接用score()等于先执行predict()得到y_pre后与y_test比较\n",
    "# 得到模型预测成功的概率"
   ]
  },
  {
   "cell_type": "code",
   "execution_count": 50,
   "metadata": {},
   "outputs": [
    {
     "name": "stdout",
     "output_type": "stream",
     "text": [
      "1.0\n",
      "0.9759036144578314\n",
      "0.9878048780487805\n"
     ]
    }
   ],
   "source": [
    "from sklearn.metrics import recall_score, precision_score, f1_score, roc_curve\n",
    "print(recall_score(y_test, y_pre)) # 召回率\n",
    "print(precision_score(y_test, y_pre)) # 精确率（召回率和准确率是相反的）\n",
    "print(f1_score(y_test, y_pre)) # F1值"
   ]
  },
  {
   "cell_type": "code",
   "execution_count": 54,
   "metadata": {},
   "outputs": [
    {
     "data": {
      "image/png": "[encoded data removed]",
      "text/plain": [
       "<Figure size 432x288 with 1 Axes>"
      ]
     },
     "metadata": {
      "needs_background": "light"
     },
     "output_type": "display_data"
    }
   ],
   "source": [
    "fpr, tpr, thresholds = roc_curve(y_test, y_pre) # 得到三个参数fpr假预测概率 tpr真预测概率  thresholds阈值\n",
    "import matplotlib.pyplot as plt\n",
    "plt.plot(fpr, tpr)\n",
    "plt.xlabel(\"False Positive Rate\")\n",
    "plt.ylabel(\"True Positive Rate\")\n",
    "plt.show()"
   ]
  },
  {
   "cell_type": "markdown",
   "metadata": {},
   "source": [
    "# 构建并评价回归模型"
   ]
  },
  {
   "cell_type": "code",
   "execution_count": 56,
   "metadata": {},
   "outputs": [
    {
     "name": "stdout",
     "output_type": "stream",
     "text": [
      "(506, 13)\n"
     ]
    },
    {
     "data": {
      "text/plain": [
       "array([24. , 21.6, 34.7, 33.4, 36.2, 28.7, 22.9, 27.1, 16.5, 18.9, 15. ,\n",
       "       18.9, 21.7, 20.4, 18.2, 19.9, 23.1, 17.5, 20.2, 18.2, 13.6, 19.6,\n",
       "       15.2, 14.5, 15.6, 13.9, 16.6, 14.8, 18.4, 21. , 12.7, 14.5, 13.2,\n",
       "       13.1, 13.5, 18.9, 20. , 21. , 24.7, 30.8, 34.9, 26.6, 25.3, 24.7,\n",
       "       21.2, 19.3, 20. , 16.6, 14.4, 19.4, 19.7, 20.5, 25. , 23.4, 18.9,\n",
       "       35.4, 24.7, 31.6, 23.3, 19.6, 18.7, 16. , 22.2, 25. , 33. , 23.5,\n",
       "       19.4, 22. , 17.4, 20.9, 24.2, 21.7, 22.8, 23.4, 24.1, 21.4, 20. ,\n",
       "       20.8, 21.2, 20.3, 28. , 23.9, 24.8, 22.9, 23.9, 26.6, 22.5, 22.2,\n",
       "       23.6, 28.7, 22.6, 22. , 22.9, 25. , 20.6, 28.4, 21.4, 38.7, 43.8,\n",
       "       33.2, 27.5, 26.5, 18.6, 19.3, 20.1, 19.5, 19.5, 20.4, 19.8, 19.4,\n",
       "       21.7, 22.8, 18.8, 18.7, 18.5, 18.3, 21.2, 19.2, 20.4, 19.3, 22. ,\n",
       "       20.3, 20.5, 17.3, 18.8, 21.4, 15.7, 16.2, 18. , 14.3, 19.2, 19.6,\n",
       "       23. , 18.4, 15.6, 18.1, 17.4, 17.1, 13.3, 17.8, 14. , 14.4, 13.4,\n",
       "       15.6, 11.8, 13.8, 15.6, 14.6, 17.8, 15.4, 21.5, 19.6, 15.3, 19.4,\n",
       "       17. , 15.6, 13.1, 41.3, 24.3, 23.3, 27. , 50. , 50. , 50. , 22.7,\n",
       "       25. , 50. , 23.8, 23.8, 22.3, 17.4, 19.1, 23.1, 23.6, 22.6, 29.4,\n",
       "       23.2, 24.6, 29.9, 37.2, 39.8, 36.2, 37.9, 32.5, 26.4, 29.6, 50. ,\n",
       "       32. , 29.8, 34.9, 37. , 30.5, 36.4, 31.1, 29.1, 50. , 33.3, 30.3,\n",
       "       34.6, 34.9, 32.9, 24.1, 42.3, 48.5, 50. , 22.6, 24.4, 22.5, 24.4,\n",
       "       20. , 21.7, 19.3, 22.4, 28.1, 23.7, 25. , 23.3, 28.7, 21.5, 23. ,\n",
       "       26.7, 21.7, 27.5, 30.1, 44.8, 50. , 37.6, 31.6, 46.7, 31.5, 24.3,\n",
       "       31.7, 41.7, 48.3, 29. , 24. , 25.1, 31.5, 23.7, 23.3, 22. , 20.1,\n",
       "       22.2, 23.7, 17.6, 18.5, 24.3, 20.5, 24.5, 26.2, 24.4, 24.8, 29.6,\n",
       "       42.8, 21.9, 20.9, 44. , 50. , 36. , 30.1, 33.8, 43.1, 48.8, 31. ,\n",
       "       36.5, 22.8, 30.7, 50. , 43.5, 20.7, 21.1, 25.2, 24.4, 35.2, 32.4,\n",
       "       32. , 33.2, 33.1, 29.1, 35.1, 45.4, 35.4, 46. , 50. , 32.2, 22. ,\n",
       "       20.1, 23.2, 22.3, 24.8, 28.5, 37.3, 27.9, 23.9, 21.7, 28.6, 27.1,\n",
       "       20.3, 22.5, 29. , 24.8, 22. , 26.4, 33.1, 36.1, 28.4, 33.4, 28.2,\n",
       "       22.8, 20.3, 16.1, 22.1, 19.4, 21.6, 23.8, 16.2, 17.8, 19.8, 23.1,\n",
       "       21. , 23.8, 23.1, 20.4, 18.5, 25. , 24.6, 23. , 22.2, 19.3, 22.6,\n",
       "       19.8, 17.1, 19.4, 22.2, 20.7, 21.1, 19.5, 18.5, 20.6, 19. , 18.7,\n",
       "       32.7, 16.5, 23.9, 31.2, 17.5, 17.2, 23.1, 24.5, 26.6, 22.9, 24.1,\n",
       "       18.6, 30.1, 18.2, 20.6, 17.8, 21.7, 22.7, 22.6, 25. , 19.9, 20.8,\n",
       "       16.8, 21.9, 27.5, 21.9, 23.1, 50. , 50. , 50. , 50. , 50. , 13.8,\n",
       "       13.8, 15. , 13.9, 13.3, 13.1, 10.2, 10.4, 10.9, 11.3, 12.3,  8.8,\n",
       "        7.2, 10.5,  7.4, 10.2, 11.5, 15.1, 23.2,  9.7, 13.8, 12.7, 13.1,\n",
       "       12.5,  8.5,  5. ,  6.3,  5.6,  7.2, 12.1,  8.3,  8.5,  5. , 11.9,\n",
       "       27.9, 17.2, 27.5, 15. , 17.2, 17.9, 16.3,  7. ,  7.2,  7.5, 10.4,\n",
       "        8.8,  8.4, 16.7, 14.2, 20.8, 13.4, 11.7,  8.3, 10.2, 10.9, 11. ,\n",
       "        9.5, 14.5, 14.1, 16.1, 14.3, 11.7, 13.4,  9.6,  8.7,  8.4, 12.8,\n",
       "       10.5, 17.1, 18.4, 15.4, 10.8, 11.8, 14.9, 12.6, 14.1, 13. , 13.4,\n",
       "       15.2, 16.1, 17.8, 14.9, 14.1, 12.7, 13.5, 14.9, 20. , 16.4, 17.7,\n",
       "       19.5, 20.2, 21.4, 19.9, 19. , 19.1, 19.1, 20.1, 19.9, 19.6, 23.2,\n",
       "       29.8, 13.8, 13.3, 16.7, 12. , 14.6, 21.4, 23. , 23.7, 25. , 21.8,\n",
       "       20.6, 21.2, 19.1, 20.6, 15.2,  7. ,  8.1, 13.6, 20.1, 21.8, 24.5,\n",
       "       23.1, 19.7, 18.3, 21.2, 17.5, 16.8, 22.4, 20.6, 23.9, 22. , 11.9])"
      ]
     },
     "execution_count": 56,
     "metadata": {},
     "output_type": "execute_result"
    }
   ],
   "source": [
    "from sklearn.datasets import load_boston\n",
    "data = load_boston()\n",
    "x = data['data']\n",
    "y = data['target']\n",
    "print(x.shape)\n",
    "y"
   ]
  },
  {
   "cell_type": "code",
   "execution_count": 57,
   "metadata": {},
   "outputs": [],
   "source": [
    "from sklearn.model_selection import train_test_split\n",
    "\n",
    "# 切分数据集\n",
    "x_train, x_test, y_train, y_test = train_test_split(x, y, test_size=0.2)"
   ]
  },
  {
   "cell_type": "code",
   "execution_count": 58,
   "metadata": {},
   "outputs": [],
   "source": [
    "# 省略了模型预处理，其实需要对模型进行预处理\n",
    "from sklearn.linear_model import LinearRegression # 导入线性回归模型\n",
    "model = LinearRegression().fit(x_train, y_train)\n",
    "y_pre = model.predict(x_test)"
   ]
  },
  {
   "cell_type": "code",
   "execution_count": 59,
   "metadata": {},
   "outputs": [
    {
     "data": {
      "image/png": "[encoded data removed]",
      "text/plain": [
       "<Figure size 432x288 with 1 Axes>"
      ]
     },
     "metadata": {
      "needs_background": "light"
     },
     "output_type": "display_data"
    }
   ],
   "source": [
    "import matplotlib.pyplot as plt\n",
    "# 通过折线图的形式来看模型预测的情况\n",
    "plt.plot(range(len(y_test)), y_test)\n",
    "plt.plot(range(len(y_pre)), y_pre)\n",
    "plt.legend(['real', 'predict'])\n",
    "plt.show()"
   ]
  },
  {
   "cell_type": "code",
   "execution_count": 61,
   "metadata": {},
   "outputs": [
    {
     "name": "stdout",
     "output_type": "stream",
     "text": [
      "25.846785156686686\n",
      "0.647823988013823\n"
     ]
    }
   ],
   "source": [
    "from sklearn.metrics import mean_squared_error, r2_score # 使用均方误差和R2来评估模型\n",
    "print(mean_squared_error(y_true=y_test, y_pred=y_pre)) # 越接近0越好\n",
    "print(r2_score(y_true=y_test, y_pred=y_pre)) # 越接近1越好"
   ]
  },
  {
   "cell_type": "code",
   "execution_count": null,
   "metadata": {},
   "outputs": [],
   "source": []
  }
 ],
 "metadata": {
  "kernelspec": {
   "display_name": "Python 3",
   "language": "python",
   "name": "python3"
  },
  "language_info": {
   "codemirror_mode": {
    "name": "ipython",
    "version": 3
   },
   "file_extension": ".py",
   "mimetype": "text/x-python",
   "name": "python",
   "nbconvert_exporter": "python",
   "pygments_lexer": "ipython3",
   "version": "3.6.4"
  }
 },
 "nbformat": 4,
 "nbformat_minor": 2
}
