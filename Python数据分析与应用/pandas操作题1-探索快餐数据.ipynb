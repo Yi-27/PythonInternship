{
 "cells": [
  {
   "cell_type": "code",
   "execution_count": 1,
   "metadata": {},
   "outputs": [],
   "source": [
    "import pandas as pd\n",
    "import numpy as np"
   ]
  },
  {
   "cell_type": "code",
   "execution_count": 3,
   "metadata": {},
   "outputs": [
    {
     "data": {
      "text/html": [
       "<div>\n",
       "<style scoped>\n",
       "    .dataframe tbody tr th:only-of-type {\n",
       "        vertical-align: middle;\n",
       "    }\n",
       "\n",
       "    .dataframe tbody tr th {\n",
       "        vertical-align: top;\n",
       "    }\n",
       "\n",
       "    .dataframe thead th {\n",
       "        text-align: right;\n",
       "    }\n",
       "</style>\n",
       "<table border=\"1\" class=\"dataframe\">\n",
       "  <thead>\n",
       "    <tr style=\"text-align: right;\">\n",
       "      <th></th>\n",
       "      <th>order_id</th>\n",
       "      <th>quantity</th>\n",
       "      <th>item_name</th>\n",
       "      <th>choice_description</th>\n",
       "      <th>item_price</th>\n",
       "    </tr>\n",
       "  </thead>\n",
       "  <tbody>\n",
       "    <tr>\n",
       "      <th>0</th>\n",
       "      <td>1</td>\n",
       "      <td>1</td>\n",
       "      <td>Chips and Fresh Tomato Salsa</td>\n",
       "      <td>NaN</td>\n",
       "      <td>$2.39</td>\n",
       "    </tr>\n",
       "    <tr>\n",
       "      <th>1</th>\n",
       "      <td>1</td>\n",
       "      <td>1</td>\n",
       "      <td>Izze</td>\n",
       "      <td>[Clementine]</td>\n",
       "      <td>$3.39</td>\n",
       "    </tr>\n",
       "    <tr>\n",
       "      <th>2</th>\n",
       "      <td>1</td>\n",
       "      <td>1</td>\n",
       "      <td>Nantucket Nectar</td>\n",
       "      <td>[Apple]</td>\n",
       "      <td>$3.39</td>\n",
       "    </tr>\n",
       "    <tr>\n",
       "      <th>3</th>\n",
       "      <td>1</td>\n",
       "      <td>1</td>\n",
       "      <td>Chips and Tomatillo-Green Chili Salsa</td>\n",
       "      <td>NaN</td>\n",
       "      <td>$2.39</td>\n",
       "    </tr>\n",
       "    <tr>\n",
       "      <th>4</th>\n",
       "      <td>2</td>\n",
       "      <td>2</td>\n",
       "      <td>Chicken Bowl</td>\n",
       "      <td>[Tomatillo-Red Chili Salsa (Hot), [Black Beans...</td>\n",
       "      <td>$16.98</td>\n",
       "    </tr>\n",
       "    <tr>\n",
       "      <th>5</th>\n",
       "      <td>3</td>\n",
       "      <td>1</td>\n",
       "      <td>Chicken Bowl</td>\n",
       "      <td>[Fresh Tomato Salsa (Mild), [Rice, Cheese, Sou...</td>\n",
       "      <td>$10.98</td>\n",
       "    </tr>\n",
       "    <tr>\n",
       "      <th>6</th>\n",
       "      <td>3</td>\n",
       "      <td>1</td>\n",
       "      <td>Side of Chips</td>\n",
       "      <td>NaN</td>\n",
       "      <td>$1.69</td>\n",
       "    </tr>\n",
       "    <tr>\n",
       "      <th>7</th>\n",
       "      <td>4</td>\n",
       "      <td>1</td>\n",
       "      <td>Steak Burrito</td>\n",
       "      <td>[Tomatillo Red Chili Salsa, [Fajita Vegetables...</td>\n",
       "      <td>$11.75</td>\n",
       "    </tr>\n",
       "    <tr>\n",
       "      <th>8</th>\n",
       "      <td>4</td>\n",
       "      <td>1</td>\n",
       "      <td>Steak Soft Tacos</td>\n",
       "      <td>[Tomatillo Green Chili Salsa, [Pinto Beans, Ch...</td>\n",
       "      <td>$9.25</td>\n",
       "    </tr>\n",
       "    <tr>\n",
       "      <th>9</th>\n",
       "      <td>5</td>\n",
       "      <td>1</td>\n",
       "      <td>Steak Burrito</td>\n",
       "      <td>[Fresh Tomato Salsa, [Rice, Black Beans, Pinto...</td>\n",
       "      <td>$9.25</td>\n",
       "    </tr>\n",
       "  </tbody>\n",
       "</table>\n",
       "</div>"
      ],
      "text/plain": [
       "   order_id  quantity                              item_name  \\\n",
       "0         1         1           Chips and Fresh Tomato Salsa   \n",
       "1         1         1                                   Izze   \n",
       "2         1         1                       Nantucket Nectar   \n",
       "3         1         1  Chips and Tomatillo-Green Chili Salsa   \n",
       "4         2         2                           Chicken Bowl   \n",
       "5         3         1                           Chicken Bowl   \n",
       "6         3         1                          Side of Chips   \n",
       "7         4         1                          Steak Burrito   \n",
       "8         4         1                       Steak Soft Tacos   \n",
       "9         5         1                          Steak Burrito   \n",
       "\n",
       "                                  choice_description item_price  \n",
       "0                                                NaN     $2.39   \n",
       "1                                       [Clementine]     $3.39   \n",
       "2                                            [Apple]     $3.39   \n",
       "3                                                NaN     $2.39   \n",
       "4  [Tomatillo-Red Chili Salsa (Hot), [Black Beans...    $16.98   \n",
       "5  [Fresh Tomato Salsa (Mild), [Rice, Cheese, Sou...    $10.98   \n",
       "6                                                NaN     $1.69   \n",
       "7  [Tomatillo Red Chili Salsa, [Fajita Vegetables...    $11.75   \n",
       "8  [Tomatillo Green Chili Salsa, [Pinto Beans, Ch...     $9.25   \n",
       "9  [Fresh Tomato Salsa, [Rice, Black Beans, Pinto...     $9.25   "
      ]
     },
     "execution_count": 3,
     "metadata": {},
     "output_type": "execute_result"
    }
   ],
   "source": [
    "# 1. 导入数据\n",
    "chipo = pd.read_table(\"../data/chipotle.tsv\", sep=\"\\t\") # tsv文件就是制表符分割\n",
    "# 2. 查看前10行数据\n",
    "chipo.head(10)"
   ]
  },
  {
   "cell_type": "code",
   "execution_count": 4,
   "metadata": {},
   "outputs": [
    {
     "data": {
      "text/plain": [
       "5"
      ]
     },
     "execution_count": 4,
     "metadata": {},
     "output_type": "execute_result"
    }
   ],
   "source": [
    "# 3. 查看数据有多少列\n",
    "chipo.columns.size"
   ]
  },
  {
   "cell_type": "code",
   "execution_count": 5,
   "metadata": {},
   "outputs": [
    {
     "data": {
      "text/plain": [
       "Index(['order_id', 'quantity', 'item_name', 'choice_description',\n",
       "       'item_price'],\n",
       "      dtype='object')"
      ]
     },
     "execution_count": 5,
     "metadata": {},
     "output_type": "execute_result"
    }
   ],
   "source": [
    "# 4. 打印全部列名\n",
    "chipo.columns"
   ]
  },
  {
   "cell_type": "code",
   "execution_count": 6,
   "metadata": {},
   "outputs": [
    {
     "data": {
      "text/plain": [
       "RangeIndex(start=0, stop=4622, step=1)"
      ]
     },
     "execution_count": 6,
     "metadata": {},
     "output_type": "execute_result"
    }
   ],
   "source": [
    "# 5. 查看数据集的索引\n",
    "chipo.index"
   ]
  },
  {
   "cell_type": "code",
   "execution_count": 70,
   "metadata": {
    "scrolled": true
   },
   "outputs": [
    {
     "name": "stdout",
     "output_type": "stream",
     "text": [
      "                                       quantity\n",
      "item_name                                      \n",
      "6 Pack Soft Drink                            55\n",
      "Barbacoa Bowl                                66\n",
      "Barbacoa Burrito                             91\n",
      "Barbacoa Crispy Tacos                        12\n",
      "Barbacoa Salad Bowl                          10\n",
      "Barbacoa Soft Tacos                          25\n",
      "Bottled Water                               211\n",
      "Bowl                                          4\n",
      "Burrito                                       6\n",
      "Canned Soda                                 126\n",
      "Canned Soft Drink                           351\n",
      "Carnitas Bowl                                71\n",
      "Carnitas Burrito                             60\n",
      "Carnitas Crispy Tacos                         8\n",
      "Carnitas Salad                                1\n",
      "Carnitas Salad Bowl                           6\n",
      "Carnitas Soft Tacos                          40\n",
      "Chicken Bowl                                761\n",
      "Chicken Burrito                             591\n",
      "Chicken Crispy Tacos                         50\n",
      "Chicken Salad                                 9\n",
      "Chicken Salad Bowl                          123\n",
      "Chicken Soft Tacos                          120\n",
      "Chips                                       230\n",
      "Chips and Fresh Tomato Salsa                130\n",
      "Chips and Guacamole                         506\n",
      "Chips and Mild Fresh Tomato Salsa             1\n",
      "Chips and Roasted Chili Corn Salsa           23\n",
      "Chips and Roasted Chili-Corn Salsa           18\n",
      "Chips and Tomatillo Green Chili Salsa        45\n",
      "Chips and Tomatillo Red Chili Salsa          50\n",
      "Chips and Tomatillo-Green Chili Salsa        33\n",
      "Chips and Tomatillo-Red Chili Salsa          25\n",
      "Crispy Tacos                                  2\n",
      "Izze                                         20\n",
      "Nantucket Nectar                             29\n",
      "Salad                                         2\n",
      "Side of Chips                               110\n",
      "Steak Bowl                                  221\n",
      "Steak Burrito                               386\n",
      "Steak Crispy Tacos                           36\n",
      "Steak Salad                                   4\n",
      "Steak Salad Bowl                             31\n",
      "Steak Soft Tacos                             56\n",
      "Veggie Bowl                                  87\n",
      "Veggie Burrito                               97\n",
      "Veggie Crispy Tacos                           1\n",
      "Veggie Salad                                  6\n",
      "Veggie Salad Bowl                            18\n",
      "Veggie Soft Tacos                             8\n",
      "761\n",
      "              quantity\n",
      "item_name             \n",
      "Chicken Bowl       761\n",
      "Index(['Chicken Bowl'], dtype='object', name='item_name')\n"
     ]
    },
    {
     "data": {
      "text/plain": [
       "'Chicken Bowl'"
      ]
     },
     "execution_count": 70,
     "metadata": {},
     "output_type": "execute_result"
    }
   ],
   "source": [
    "# 6. 被下单数最多的商品item是什么\n",
    "# items = chipo[['quantity', 'item_name']].groupby(by='item_name') # 先分组\n",
    "# print(items.count()) # 查看各商品被下单的次数\n",
    "\n",
    "items_pt = pd.pivot_table(chipo[['quantity', 'item_name']], index='item_name', aggfunc=np.sum) # 创建透视表\n",
    "print(items_pt) # 查看创建的透视表\n",
    "print(items_pt['quantity'].max())\n",
    "# print(items_pt['quantity']==items_pt['quantity'].max()) 返回一个DataFrame 只有满足条件的那一行对应的值为True\n",
    "print(items_pt[items_pt['quantity']==items_pt['quantity'].max()]) # 找到下单次数最多的这一行\n",
    "print(items_pt[items_pt['quantity']==items_pt['quantity'].max()].index) # 由于索引名为商品名\n",
    "items_pt[items_pt['quantity']==items_pt['quantity'].max()].index[0] # 提取出该商品名"
   ]
  },
  {
   "cell_type": "code",
   "execution_count": 71,
   "metadata": {},
   "outputs": [
    {
     "name": "stdout",
     "output_type": "stream",
     "text": [
      "Empty DataFrame\n",
      "Columns: [order_id, quantity, item_name, choice_description, item_price]\n",
      "Index: []\n"
     ]
    },
    {
     "data": {
      "text/plain": [
       "50"
      ]
     },
     "execution_count": 71,
     "metadata": {},
     "output_type": "execute_result"
    }
   ],
   "source": [
    "# 7. 在item_name这一列，一共有多少种商品被下单\n",
    "print(chipo[chipo['quantity']==0]) # 先确定是否存在商品没下单的情况，结果显示并没有这种情况\n",
    "chipo['item_name'].unique().size # unique()去重"
   ]
  },
  {
   "cell_type": "code",
   "execution_count": 74,
   "metadata": {},
   "outputs": [
    {
     "name": "stdout",
     "output_type": "stream",
     "text": [
      "4972\n"
     ]
    },
    {
     "data": {
      "text/plain": [
       "quantity    4972\n",
       "dtype: int64"
      ]
     },
     "execution_count": 74,
     "metadata": {},
     "output_type": "execute_result"
    }
   ],
   "source": [
    "# 8. 一共有多少个商品被下单\n",
    "print(chipo['quantity'].sum())\n",
    "items_pt.sum() # 通过上面的透视表进行确认"
   ]
  },
  {
   "cell_type": "code",
   "execution_count": 88,
   "metadata": {
    "scrolled": true
   },
   "outputs": [
    {
     "name": "stdout",
     "output_type": "stream",
     "text": [
      "0        $2.39 \n",
      "1        $3.39 \n",
      "2        $3.39 \n",
      "3        $2.39 \n",
      "4       $16.98 \n",
      "         ...   \n",
      "4617    $11.75 \n",
      "4618    $11.75 \n",
      "4619    $11.25 \n",
      "4620     $8.75 \n",
      "4621     $8.75 \n",
      "Name: item_price, Length: 4622, dtype: object\n",
      "0        2.39 \n",
      "1        3.39 \n",
      "2        3.39 \n",
      "3        2.39 \n",
      "4       16.98 \n",
      "         ...  \n",
      "4617    11.75 \n",
      "4618    11.75 \n",
      "4619    11.25 \n",
      "4620     8.75 \n",
      "4621     8.75 \n",
      "Name: item_price, Length: 4622, dtype: object\n"
     ]
    },
    {
     "data": {
      "text/plain": [
       "0        2.39\n",
       "1        3.39\n",
       "2        3.39\n",
       "3        2.39\n",
       "4       16.98\n",
       "        ...  \n",
       "4617    11.75\n",
       "4618    11.75\n",
       "4619    11.25\n",
       "4620     8.75\n",
       "4621     8.75\n",
       "Name: item_price, Length: 4622, dtype: float64"
      ]
     },
     "execution_count": 88,
     "metadata": {},
     "output_type": "execute_result"
    }
   ],
   "source": [
    "# 9. 将item_price转换为浮点数\n",
    "print(chipo['item_price'])\n",
    "chipo['item_price'].str.extract('(\\d+\\.\\d+)') # 通过正则提取出除 $ 符以外的数字\n",
    "print(chipo['item_price'].str[1:]) # 等同于上面，这样操作返回的是一个DataFrame\n",
    "chipo['item_price'] = chipo['item_price'].str[1:].astype(float) # 转换为浮点型，同时更新进原数据集\n",
    "chipo['item_price']"
   ]
  },
  {
   "cell_type": "code",
   "execution_count": 91,
   "metadata": {},
   "outputs": [
    {
     "data": {
      "text/plain": [
       "39237.02"
      ]
     },
     "execution_count": 91,
     "metadata": {},
     "output_type": "execute_result"
    }
   ],
   "source": [
    "# 10. 在数据集对应的时期内，收入(revenue)是多少？\n",
    "# 由于同款商品买的价钱不一样，所以应该用每行quantity * item_price，再累加起来就是最终的revenue\n",
    "revenue = (chipo['quantity'] * chipo['item_price']).sum()\n",
    "revenue"
   ]
  },
  {
   "cell_type": "code",
   "execution_count": 102,
   "metadata": {},
   "outputs": [
    {
     "name": "stdout",
     "output_type": "stream",
     "text": [
      "1834\n"
     ]
    }
   ],
   "source": [
    "# 11. 一共有多少订单？\n",
    "# 一个order_id就是一个订单，由于上面已经验证不存在quantity为0的情况，所以直接统计有多少个order_id即可\n",
    "print(chipo['order_id'].unique()[-1]) # 即为订单总数"
   ]
  },
  {
   "cell_type": "code",
   "execution_count": 112,
   "metadata": {},
   "outputs": [
    {
     "data": {
      "text/html": [
       "<div>\n",
       "<style scoped>\n",
       "    .dataframe tbody tr th:only-of-type {\n",
       "        vertical-align: middle;\n",
       "    }\n",
       "\n",
       "    .dataframe tbody tr th {\n",
       "        vertical-align: top;\n",
       "    }\n",
       "\n",
       "    .dataframe thead th {\n",
       "        text-align: right;\n",
       "    }\n",
       "</style>\n",
       "<table border=\"1\" class=\"dataframe\">\n",
       "  <thead>\n",
       "    <tr style=\"text-align: right;\">\n",
       "      <th></th>\n",
       "      <th>quantity</th>\n",
       "      <th>item_price</th>\n",
       "      <th>avg_price</th>\n",
       "    </tr>\n",
       "    <tr>\n",
       "      <th>order_id</th>\n",
       "      <th></th>\n",
       "      <th></th>\n",
       "      <th></th>\n",
       "    </tr>\n",
       "  </thead>\n",
       "  <tbody>\n",
       "    <tr>\n",
       "      <th>1</th>\n",
       "      <td>4</td>\n",
       "      <td>11.56</td>\n",
       "      <td>2.890000</td>\n",
       "    </tr>\n",
       "    <tr>\n",
       "      <th>2</th>\n",
       "      <td>2</td>\n",
       "      <td>16.98</td>\n",
       "      <td>8.490000</td>\n",
       "    </tr>\n",
       "    <tr>\n",
       "      <th>3</th>\n",
       "      <td>2</td>\n",
       "      <td>12.67</td>\n",
       "      <td>6.335000</td>\n",
       "    </tr>\n",
       "    <tr>\n",
       "      <th>4</th>\n",
       "      <td>2</td>\n",
       "      <td>21.00</td>\n",
       "      <td>10.500000</td>\n",
       "    </tr>\n",
       "    <tr>\n",
       "      <th>5</th>\n",
       "      <td>2</td>\n",
       "      <td>13.70</td>\n",
       "      <td>6.850000</td>\n",
       "    </tr>\n",
       "    <tr>\n",
       "      <th>...</th>\n",
       "      <td>...</td>\n",
       "      <td>...</td>\n",
       "      <td>...</td>\n",
       "    </tr>\n",
       "    <tr>\n",
       "      <th>1830</th>\n",
       "      <td>2</td>\n",
       "      <td>23.00</td>\n",
       "      <td>11.500000</td>\n",
       "    </tr>\n",
       "    <tr>\n",
       "      <th>1831</th>\n",
       "      <td>3</td>\n",
       "      <td>12.90</td>\n",
       "      <td>4.300000</td>\n",
       "    </tr>\n",
       "    <tr>\n",
       "      <th>1832</th>\n",
       "      <td>2</td>\n",
       "      <td>13.20</td>\n",
       "      <td>6.600000</td>\n",
       "    </tr>\n",
       "    <tr>\n",
       "      <th>1833</th>\n",
       "      <td>2</td>\n",
       "      <td>23.50</td>\n",
       "      <td>11.750000</td>\n",
       "    </tr>\n",
       "    <tr>\n",
       "      <th>1834</th>\n",
       "      <td>3</td>\n",
       "      <td>28.75</td>\n",
       "      <td>9.583333</td>\n",
       "    </tr>\n",
       "  </tbody>\n",
       "</table>\n",
       "<p>1834 rows × 3 columns</p>\n",
       "</div>"
      ],
      "text/plain": [
       "          quantity  item_price  avg_price\n",
       "order_id                                 \n",
       "1                4       11.56   2.890000\n",
       "2                2       16.98   8.490000\n",
       "3                2       12.67   6.335000\n",
       "4                2       21.00  10.500000\n",
       "5                2       13.70   6.850000\n",
       "...            ...         ...        ...\n",
       "1830             2       23.00  11.500000\n",
       "1831             3       12.90   4.300000\n",
       "1832             2       13.20   6.600000\n",
       "1833             2       23.50  11.750000\n",
       "1834             3       28.75   9.583333\n",
       "\n",
       "[1834 rows x 3 columns]"
      ]
     },
     "execution_count": 112,
     "metadata": {},
     "output_type": "execute_result"
    }
   ],
   "source": [
    "# 12. 每一单order对应的平均总价是多少？\n",
    "# 先分组，总聚合\n",
    "order_group = chipo[['order_id', 'quantity', 'item_price']].groupby(by='order_id') # 先分组\n",
    "order_agg = order_group.agg(np.sum) # 再聚合，聚合时，统计出每单有多少个商品。多少个商品合计多少钱\n",
    "order_agg['avg_price'] = order_agg['item_price'] / order_agg['quantity'] # 添加一列，为每单对应的平均总价\n",
    "order_agg"
   ]
  },
  {
   "cell_type": "code",
   "execution_count": null,
   "metadata": {},
   "outputs": [],
   "source": []
  }
 ],
 "metadata": {
  "kernelspec": {
   "display_name": "Python 3",
   "language": "python",
   "name": "python3"
  },
  "language_info": {
   "codemirror_mode": {
    "name": "ipython",
    "version": 3
   },
   "file_extension": ".py",
   "mimetype": "text/x-python",
   "name": "python",
   "nbconvert_exporter": "python",
   "pygments_lexer": "ipython3",
   "version": "3.6.4"
  }
 },
 "nbformat": 4,
 "nbformat_minor": 2
}
